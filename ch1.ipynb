{
 "cells": [
  {
   "cell_type": "markdown",
   "metadata": {},
   "source": [
    "### 00. 文字列の逆順"
   ]
  },
  {
   "cell_type": "code",
   "execution_count": 82,
   "metadata": {},
   "outputs": [
    {
     "name": "stdout",
     "output_type": "stream",
     "text": [
      "desserts\n"
     ]
    }
   ],
   "source": [
    "s0 = \"stressed\"\n",
    "s0 = \"\".join(list(reversed(s0)))\n",
    "print(s0)"
   ]
  },
  {
   "cell_type": "markdown",
   "metadata": {},
   "source": [
    "### 01. 「パタトクカシーー」"
   ]
  },
  {
   "cell_type": "code",
   "execution_count": 83,
   "metadata": {},
   "outputs": [
    {
     "name": "stdout",
     "output_type": "stream",
     "text": [
      "タクシー\n"
     ]
    }
   ],
   "source": [
    "import numpy as np\n",
    "s1 = \"パタトクカシーー\"\n",
    "ret1 = \"\".join([s1[i] for i in [1, 3, 5, 7]])\n",
    "print(ret1)"
   ]
  },
  {
   "cell_type": "markdown",
   "metadata": {},
   "source": [
    "### 02. 「パトカー」＋「タクシー」＝「パタトクカシーー」"
   ]
  },
  {
   "cell_type": "code",
   "execution_count": 84,
   "metadata": {},
   "outputs": [
    {
     "name": "stdout",
     "output_type": "stream",
     "text": [
      "パタトクカシーー\n"
     ]
    }
   ],
   "source": [
    "s2_1 = \"パトカー\"\n",
    "s2_2 = \"タクシー\"\n",
    "ret2 = \"\".join([c1+c2 for (c1, c2) in zip(s2_1, s2_2)])\n",
    "print(ret2)"
   ]
  },
  {
   "cell_type": "markdown",
   "metadata": {},
   "source": [
    "### 03. 円周率"
   ]
  },
  {
   "cell_type": "code",
   "execution_count": 85,
   "metadata": {},
   "outputs": [
    {
     "name": "stdout",
     "output_type": "stream",
     "text": [
      "[3, 1, 4, 1, 5, 9, 2, 6, 5, 3, 5, 8, 9, 7, 9]\n"
     ]
    }
   ],
   "source": [
    "s3 = \"Now I need a drink, alcoholic of course, after the heavy lectures involving quantum mechanics.\"\n",
    "\n",
    "s3 = s3.replace(\",\", \"\")\n",
    "s3 = s3.replace(\".\", \"\")\n",
    "ret3 = [len(word) for word in s3.split()]\n",
    "print(ret3)"
   ]
  },
  {
   "cell_type": "markdown",
   "metadata": {},
   "source": [
    "### 04. 元素記号"
   ]
  },
  {
   "cell_type": "code",
   "execution_count": 117,
   "metadata": {},
   "outputs": [
    {
     "name": "stdout",
     "output_type": "stream",
     "text": [
      "['H', 'He', 'Li', 'Be', 'B', 'C', 'N', 'O', 'F', 'Ne', 'Na', 'Mi', 'Al', 'Si', 'P', 'S', 'Cl', 'Ar', 'K', 'Ca']\n"
     ]
    }
   ],
   "source": [
    "s4 = \"Hi He Lied Because Boron Could Not Oxidize Fluorine. New Nations Might Also Sign Peace Security Clause. Arthur King Can.\"\n",
    "heads = [1, 5, 6, 7, 8, 9, 15, 16, 19]\n",
    "\n",
    "s4 = s4.replace(\",\", \"\")\n",
    "s4 = s4.replace(\".\", \"\")\n",
    "ws = s4.split()\n",
    "ret4 = [ws[i][:1] if i + 1 in heads else ws[i][:2] for i in range(len(ws))]\n",
    "print(ret4)"
   ]
  },
  {
   "cell_type": "markdown",
   "metadata": {},
   "source": [
    "### 05. n-gram"
   ]
  },
  {
   "cell_type": "code",
   "execution_count": 92,
   "metadata": {},
   "outputs": [
    {
     "name": "stdout",
     "output_type": "stream",
     "text": [
      "[('I', 'am'), ('am', 'an'), ('an', 'NLPer')]\n",
      "[('I', ' '), (' ', 'a'), ('a', 'm'), ('m', ' '), (' ', 'a'), ('a', 'n'), ('n', ' '), (' ', 'N'), ('N', 'L'), ('L', 'P'), ('P', 'e'), ('e', 'r')]\n"
     ]
    }
   ],
   "source": [
    "def n_gram(n: int, l: list) -> list:\n",
    "    ls = [l[i:] for i in range(0, n)]\n",
    "    return list(zip(*ls))\n",
    "\n",
    "s5 = \"I am an NLPer\"\n",
    "print(n_gram(2, s5.split()))\n",
    "print(n_gram(2, s5))"
   ]
  },
  {
   "cell_type": "markdown",
   "metadata": {},
   "source": [
    "### 06. 集合"
   ]
  },
  {
   "cell_type": "code",
   "execution_count": 88,
   "metadata": {},
   "outputs": [
    {
     "name": "stdout",
     "output_type": "stream",
     "text": [
      "和集合:  {('p', 'a'), ('r', 'a'), ('i', 's'), ('a', 'p'), ('d', 'i'), ('a', 'd'), ('a', 'g'), ('g', 'r'), ('p', 'h'), ('a', 'r'), ('s', 'e')}\n",
      "積集合:  {('a', 'r'), ('r', 'a'), ('p', 'a'), ('a', 'p')}\n",
      "差集合:  {('a', 'd'), ('d', 'i'), ('i', 's'), ('s', 'e')}\n",
      "'se' in X:  True\n",
      "'se' in Y:  False\n"
     ]
    }
   ],
   "source": [
    "s6_1 = \"paraparaparadise\"\n",
    "s6_2 = \"paragraph\"\n",
    "\n",
    "X = set(n_gram(2, s6_1))\n",
    "Y = set(n_gram(2, s6_2))\n",
    "print(\"和集合: \", X.union(Y))\n",
    "print(\"積集合: \", X.intersection(Y))\n",
    "print(\"差集合: \", X.difference(Y))\n",
    "print(\"'se' in X: \", ('s', 'e') in X)\n",
    "print(\"'se' in Y: \", ('s', 'e') in Y)"
   ]
  },
  {
   "cell_type": "markdown",
   "metadata": {},
   "source": [
    "### 07. テンプレートによる文生成"
   ]
  },
  {
   "cell_type": "code",
   "execution_count": 89,
   "metadata": {},
   "outputs": [
    {
     "name": "stdout",
     "output_type": "stream",
     "text": [
      "12時の気温は22.4\n"
     ]
    }
   ],
   "source": [
    "def when_template(x, y, z):\n",
    "    return f\"{x}時の{y}は{z}\"\n",
    "print(when_template(12, \"気温\", 22.4))"
   ]
  },
  {
   "cell_type": "markdown",
   "metadata": {},
   "source": [
    "### 08. 暗号文"
   ]
  },
  {
   "cell_type": "code",
   "execution_count": 90,
   "metadata": {},
   "outputs": [
    {
     "name": "stdout",
     "output_type": "stream",
     "text": [
      "Hrkkh, Wheks!\n"
     ]
    }
   ],
   "source": [
    "def cipher(s: str):\n",
    "    ret = \"\"\n",
    "    for c in s:\n",
    "        if 'a' <= c <= 'z':\n",
    "            ret += chr(215 - ord(c))\n",
    "        else:\n",
    "            ret += c\n",
    "    return ret\n",
    "print(cipher(\"Hello, World!\"))"
   ]
  },
  {
   "cell_type": "markdown",
   "metadata": {},
   "source": [
    "### 09. Typoglycemia"
   ]
  },
  {
   "cell_type": "code",
   "execution_count": 116,
   "metadata": {},
   "outputs": [
    {
     "name": "stdout",
     "output_type": "stream",
     "text": [
      "['I', 'cludo’nt', 'bleevie', 'that', 'I', 'cuold', 'alutacly', 'uneardtnsd', 'what', 'I', 'was', 'rniaedg', ':', 'the', 'peanohneml', 'pewor', 'of', 'the', 'hmaun', 'mind', '.']\n"
     ]
    }
   ],
   "source": [
    "import random\n",
    "def shuffled(s: str):\n",
    "    s2 = list(s).copy()\n",
    "    random.shuffle(s2)\n",
    "    return \"\".join(s2)\n",
    "\n",
    "s9 = \"I couldn’t believe that I could actually understand what I was reading : the phenomenal power of the human mind .\"\n",
    "words = s9.split()\n",
    "ret9 = [w[0] + shuffled(w[1:-1]) + w[-1] if len(w) > 4 else w for w in words]\n",
    "print(ret9)"
   ]
  }
 ],
 "metadata": {
  "kernelspec": {
   "display_name": ".venv",
   "language": "python",
   "name": "python3"
  },
  "language_info": {
   "codemirror_mode": {
    "name": "ipython",
    "version": 3
   },
   "file_extension": ".py",
   "mimetype": "text/x-python",
   "name": "python",
   "nbconvert_exporter": "python",
   "pygments_lexer": "ipython3",
   "version": "3.10.0"
  }
 },
 "nbformat": 4,
 "nbformat_minor": 2
}
