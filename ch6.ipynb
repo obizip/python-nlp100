{
 "cells": [
  {
   "cell_type": "markdown",
   "metadata": {},
   "source": [
    "# 第 6 章: 機械学習\n"
   ]
  },
  {
   "cell_type": "markdown",
   "metadata": {},
   "source": [
    "### 50. データの入手・整形\n"
   ]
  },
  {
   "cell_type": "code",
   "execution_count": 1,
   "metadata": {},
   "outputs": [],
   "source": [
    "import numpy as np\n",
    "import pandas as pd\n",
    "from sklearn.metrics import accuracy_score, confusion_matrix, classification_report\n",
    "\n",
    "seed = 0\n",
    "import random\n",
    "random.seed(seed)\n",
    "import numpy as np\n",
    "np.random.seed(seed)"
   ]
  },
  {
   "cell_type": "code",
   "execution_count": 2,
   "metadata": {},
   "outputs": [],
   "source": [
    "\n",
    "news_df = pd.read_csv(\"./data/news/newsCorpora.csv\", sep=\"\\t\", header=None)\n",
    "news_df.columns = [\"id\", \"title\", \"url\", \"publisher\", \"category\", \"story\", \"hostname\", \"timestamp\"]\n",
    "\n",
    "# news_df.head()\n",
    "publishers = [\"Reuters\", \"Huffington Post\", \"Businessweek\", \"Contactmusic.com\", \"Daily Mail\"]\n",
    "extracted_news_df = news_df[news_df[\"publisher\"].isin(publishers)]\n",
    "\n",
    "# データをランダムにシャッフル\n",
    "df_shuffled = extracted_news_df.sample(frac=1, random_state=seed).reset_index(drop=True)\n",
    "\n",
    "# データの件数を計算\n",
    "n = len(df_shuffled)\n",
    "train_end = int(n * 0.8)\n",
    "val_end = int(n * 0.9)\n",
    "\n",
    "# データを分割\n",
    "train = df_shuffled[:train_end]\n",
    "val = df_shuffled[train_end:val_end]\n",
    "test = df_shuffled[val_end:]\n",
    "\n",
    "import os\n",
    "os.makedirs(\"data/ch6\", exist_ok=True)\n",
    "pd.DataFrame(train)[[\"category\", \"title\"]].to_csv(\"./data/ch6/train.txt\", sep=\"\\t\", index=False, header=None)\n",
    "pd.DataFrame(test)[[\"category\", \"title\"]].to_csv(\"./data/ch6/test.txt\", sep=\"\\t\", index=False, header=None)\n",
    "pd.DataFrame(val)[[\"category\", \"title\"]].to_csv(\"./data/ch6/val.txt\", sep=\"\\t\", index=False, header=None)"
   ]
  },
  {
   "cell_type": "markdown",
   "metadata": {},
   "source": [
    "### 51. 特徴量抽出"
   ]
  },
  {
   "cell_type": "code",
   "execution_count": 3,
   "metadata": {},
   "outputs": [
    {
     "name": "stderr",
     "output_type": "stream",
     "text": [
      "/Users/obi/Code/github.com/obizip/python-nlp100/.venv/lib/python3.10/site-packages/tqdm/auto.py:21: TqdmWarning: IProgress not found. Please update jupyter and ipywidgets. See https://ipywidgets.readthedocs.io/en/stable/user_install.html\n",
      "  from .autonotebook import tqdm as notebook_tqdm\n"
     ]
    },
    {
     "name": "stdout",
     "output_type": "stream",
     "text": [
      "len(train_titles)=10672\n",
      "train_embs.shape=(10672, 128)\n"
     ]
    }
   ],
   "source": [
    "from sentence_transformers import SentenceTransformer\n",
    "from sklearn.linear_model import LogisticRegression\n",
    "\n",
    "def get_embeddings(\n",
    "        sentences: list[str], \n",
    "        model: str = \"sentence-transformers-testing/stsb-bert-tiny-safetensors\"\n",
    "):\n",
    "    model = SentenceTransformer(model)\n",
    "    embs = model.encode(sentences)\n",
    "    return embs\n",
    "\n",
    "train_titles, train_categories = train[\"title\"].values, train[\"category\"].values\n",
    "print(f\"{len(train_titles)=}\")\n",
    "\n",
    "train_embs = get_embeddings(train_titles)\n",
    "print(f\"{train_embs.shape=}\")"
   ]
  },
  {
   "cell_type": "markdown",
   "metadata": {},
   "source": [
    "### 52. 学習"
   ]
  },
  {
   "cell_type": "code",
   "execution_count": 4,
   "metadata": {},
   "outputs": [
    {
     "name": "stdout",
     "output_type": "stream",
     "text": [
      "X_train.shape=(10672, 128)\n",
      "y_train.shape=(10672,)\n"
     ]
    }
   ],
   "source": [
    "X_train = train_embs\n",
    "y_train = train_categories\n",
    "print(f\"{X_train.shape=}\")\n",
    "print(f\"{y_train.shape=}\")\n",
    "clf = LogisticRegression(random_state=seed, max_iter=1000).fit(X_train, y_train)\n",
    "y_pred_train = clf.predict(X_train)"
   ]
  },
  {
   "cell_type": "markdown",
   "metadata": {},
   "source": [
    "### 53. 予測"
   ]
  },
  {
   "cell_type": "code",
   "execution_count": 5,
   "metadata": {},
   "outputs": [
    {
     "name": "stdout",
     "output_type": "stream",
     "text": [
      "len(test_titles)=1334\n",
      "X_test.shape=(1334, 128)\n",
      "y_test.shape=(1334,)\n"
     ]
    }
   ],
   "source": [
    "test_titles, test_categories = test[\"title\"].values, test[\"category\"].values\n",
    "print(f\"{len(test_titles)=}\")\n",
    "\n",
    "X_test = get_embeddings(test_titles)\n",
    "print(f\"{X_test.shape=}\")\n",
    "y_test = test_categories\n",
    "print(f\"{y_test.shape=}\")\n",
    "\n",
    "y_pred = clf.predict(X_test)"
   ]
  },
  {
   "cell_type": "markdown",
   "metadata": {},
   "source": [
    "### 54. 正解率の計測"
   ]
  },
  {
   "cell_type": "code",
   "execution_count": 6,
   "metadata": {},
   "outputs": [
    {
     "name": "stdout",
     "output_type": "stream",
     "text": [
      "accuracy_score(y_train, y_pred_train)=0.8654422788605697\n",
      "accuracy_score(y_test, y_pred)=0.8620689655172413\n"
     ]
    }
   ],
   "source": [
    "print(f\"{accuracy_score(y_train, y_pred_train)=}\")\n",
    "print(f\"{accuracy_score(y_test, y_pred)=}\")"
   ]
  },
  {
   "cell_type": "markdown",
   "metadata": {},
   "source": [
    "### 55. 混同行列の作成"
   ]
  },
  {
   "cell_type": "code",
   "execution_count": 7,
   "metadata": {},
   "outputs": [
    {
     "name": "stdout",
     "output_type": "stream",
     "text": [
      "[[4074  193   51  175]\n",
      " [ 155 3966   43   68]\n",
      " [ 111   74  498   34]\n",
      " [ 379  129   24  698]]\n",
      "[[510  15   6  33]\n",
      " [ 21 480   7   9]\n",
      " [ 16  11  64   5]\n",
      " [ 46  13   2  96]]\n"
     ]
    }
   ],
   "source": [
    "print(f\"{confusion_matrix(y_train, y_pred_train)}\")\n",
    "print(f\"{confusion_matrix(y_test, y_pred)}\")"
   ]
  },
  {
   "cell_type": "markdown",
   "metadata": {},
   "source": [
    "### 56. 適合率，再現率，F1スコアの計測"
   ]
  },
  {
   "cell_type": "code",
   "execution_count": 8,
   "metadata": {},
   "outputs": [
    {
     "name": "stdout",
     "output_type": "stream",
     "text": [
      "[train data]\n",
      "              precision    recall  f1-score   support\n",
      "\n",
      "           b       0.86      0.91      0.88      4493\n",
      "           e       0.91      0.94      0.92      4232\n",
      "           m       0.81      0.69      0.75       717\n",
      "           t       0.72      0.57      0.63      1230\n",
      "\n",
      "    accuracy                           0.87     10672\n",
      "   macro avg       0.82      0.78      0.80     10672\n",
      "weighted avg       0.86      0.87      0.86     10672\n",
      "\n",
      "--------------------------------------------------------------------------------\n",
      "[test data]\n",
      "              precision    recall  f1-score   support\n",
      "\n",
      "           b       0.86      0.90      0.88       564\n",
      "           e       0.92      0.93      0.93       517\n",
      "           m       0.81      0.67      0.73        96\n",
      "           t       0.67      0.61      0.64       157\n",
      "\n",
      "    accuracy                           0.86      1334\n",
      "   macro avg       0.82      0.78      0.79      1334\n",
      "weighted avg       0.86      0.86      0.86      1334\n",
      "\n"
     ]
    }
   ],
   "source": [
    "print(\"[train data]\")\n",
    "print(classification_report(y_train, y_pred_train))\n",
    "print(\"-\"*80)\n",
    "print(\"[test data]\")\n",
    "print(classification_report(y_test, y_pred))"
   ]
  },
  {
   "cell_type": "markdown",
   "metadata": {},
   "source": [
    "### 57. 特徴量の重みの確認"
   ]
  },
  {
   "cell_type": "code",
   "execution_count": 9,
   "metadata": {},
   "outputs": [
    {
     "name": "stdout",
     "output_type": "stream",
     "text": [
      "b\n",
      "  [top]   95: 0.411, 121: 0.416, 33: 0.525, 106: 0.589, 111: 0.596, 85: 0.652, 75: 0.761, 7: 0.79, 53: 0.792, 47: 0.986\n",
      "  [worst] 83: -1.46, 62: -0.828, 55: -0.828, 79: -0.665, 109: -0.593, 91: -0.584, 10: -0.525, 87: -0.521, 72: -0.474, 64: -0.473\n",
      "e\n",
      "  [top]   46: 0.373, 91: 0.455, 21: 0.468, 68: 0.496, 65: 0.503, 55: 0.564, 6: 0.611, 80: 0.612, 62: 0.676, 102: 0.725\n",
      "  [worst] 60: -0.803, 111: -0.797, 9: -0.628, 76: -0.589, 121: -0.542, 24: -0.531, 92: -0.472, 101: -0.427, 66: -0.417, 86: -0.417\n",
      "m\n",
      "  [top]   35: 0.458, 110: 0.477, 19: 0.478, 101: 0.486, 62: 0.488, 54: 0.552, 29: 0.556, 83: 0.594, 81: 0.639, 94: 0.765\n",
      "  [worst] 118: -0.686, 12: -0.593, 77: -0.565, 7: -0.499, 47: -0.409, 106: -0.401, 108: -0.387, 52: -0.376, 42: -0.351, 65: -0.347\n",
      "t\n",
      "  [top]   26: 0.41, 123: 0.435, 1: 0.46, 48: 0.466, 0: 0.506, 118: 0.509, 60: 0.511, 109: 0.681, 2: 0.696, 83: 0.737\n",
      "  [worst] 53: -0.631, 85: -0.516, 3: -0.507, 110: -0.477, 7: -0.474, 33: -0.461, 31: -0.438, 81: -0.431, 17: -0.43, 75: -0.429\n"
     ]
    }
   ],
   "source": [
    "clf.coef_.shape\n",
    "clf.classes_\n",
    "for i in range(len(clf.classes_)):\n",
    "    class_name = clf.classes_[i]\n",
    "    ws = clf.coef_[i]\n",
    "    indices = np.argsort(ws)\n",
    "    top = [f\"{i}: {ws[i]:.3}\" for i in indices[-10:]]\n",
    "    worst = [f\"{i}: {ws[i]:.3}\" for i in indices[:10]]\n",
    "    print(class_name)\n",
    "    print(f\"  [top]   {', '.join(top)}\")\n",
    "    print(f\"  [worst] {', '.join(worst)}\")"
   ]
  },
  {
   "cell_type": "markdown",
   "metadata": {},
   "source": [
    "### 58. 正則化パラメータの変更"
   ]
  },
  {
   "cell_type": "code",
   "execution_count": 10,
   "metadata": {},
   "outputs": [
    {
     "name": "stdout",
     "output_type": "stream",
     "text": [
      "X_val.shape=(1334, 128)\n",
      "y_val.shape=(1334,)\n"
     ]
    }
   ],
   "source": [
    "val_titles, val_categories = val[\"title\"].values, val[\"category\"].values\n",
    "X_val = get_embeddings(val_titles)\n",
    "print(f\"{X_val.shape=}\")\n",
    "y_val = val_categories\n",
    "print(f\"{y_val.shape=}\")"
   ]
  },
  {
   "cell_type": "code",
   "execution_count": 11,
   "metadata": {},
   "outputs": [
    {
     "data": {
      "image/png": "[encoded data removed]",
      "text/plain": [
       "<Figure size 800x600 with 1 Axes>"
      ]
     },
     "metadata": {},
     "output_type": "display_data"
    }
   ],
   "source": [
    "import matplotlib.pyplot as plt\n",
    "from collections import defaultdict\n",
    "\n",
    "cs = np.logspace(-3, 3, 100)\n",
    "accs = defaultdict(list)\n",
    "\n",
    "plt.figure(figsize=(8, 6))\n",
    "for title, X, y in [(\"train\", X_train, y_train), (\"val\", X_val, y_val), (\"test\", X_test, y_test)]:\n",
    "    for c in cs:\n",
    "        clf = LogisticRegression(random_state=seed, max_iter=1000, C=c)\n",
    "        clf.fit(X_train, y_train)\n",
    "        y_pred = clf.predict(X)\n",
    "        acc = accuracy_score(y, y_pred)\n",
    "        accs[title].append(acc)\n",
    "    plt.plot(cs, accs[title], label=title)\n",
    "plt.xscale(\"log\")\n",
    "plt.legend()\n",
    "plt.show()"
   ]
  },
  {
   "cell_type": "markdown",
   "metadata": {},
   "source": [
    "### 59. ハイパーパラメータの探索"
   ]
  },
  {
   "cell_type": "code",
   "execution_count": 19,
   "metadata": {},
   "outputs": [
    {
     "name": "stdout",
     "output_type": "stream",
     "text": [
      "C=1\tsolver='saga'\t\tacc=0.8590704647676162\n",
      "C=1\tsolver='liblinear'\t\tacc=0.861319340329835\n",
      "C=1\tsolver='lbfgs'\t\tacc=0.8583208395802099\n",
      "C=10\tsolver='saga'\t\tacc=0.8598200899550225\n",
      "C=10\tsolver='liblinear'\t\tacc=0.8620689655172413\n",
      "C=10\tsolver='lbfgs'\t\tacc=0.8598200899550225\n",
      "C=100\tsolver='saga'\t\tacc=0.8605697151424287\n",
      "C=100\tsolver='liblinear'\t\tacc=0.8628185907046477\n",
      "C=100\tsolver='lbfgs'\t\tacc=0.8590704647676162\n",
      "best_params={'C': 100, 'solver': 'lbfgs'}\n",
      "acc=0.8598200899550225\n",
      "              precision    recall  f1-score   support\n",
      "\n",
      "           b       0.86      0.90      0.88       564\n",
      "           e       0.92      0.93      0.93       517\n",
      "           m       0.81      0.67      0.73        96\n",
      "           t       0.66      0.61      0.63       157\n",
      "\n",
      "    accuracy                           0.86      1334\n",
      "   macro avg       0.81      0.78      0.79      1334\n",
      "weighted avg       0.86      0.86      0.86      1334\n",
      "\n"
     ]
    }
   ],
   "source": [
    "best_params = {}\n",
    "max_acc = -np.inf\n",
    "for C in [1, 10, 100]:\n",
    "    for solver in ['saga', 'liblinear', 'lbfgs']:\n",
    "        clf = LogisticRegression(random_state=seed, max_iter=1000, C=C, solver=solver)\n",
    "        clf.fit(X_train, y_train)\n",
    "        y_pred = clf.predict(X_val)\n",
    "        acc = accuracy_score(y_val, y_pred)\n",
    "        print(f\"{C=}\\t{solver=}\\t\\t{acc=}\")\n",
    "        if acc > max_acc:\n",
    "            best_params.update(C=C, solver=solver)\n",
    "\n",
    "clf = LogisticRegression(random_state=seed, max_iter=1000, **best_params)\n",
    "clf.fit(X_train, y_train)\n",
    "y_pred = clf.predict(X_test)\n",
    "acc = accuracy_score(y_test, y_pred)\n",
    "print(f\"{best_params=}\")\n",
    "print(f\"best_{acc=}\")\n",
    "print(classification_report(y_test, y_pred))"
   ]
  }
 ],
 "metadata": {
  "kernelspec": {
   "display_name": ".venv",
   "language": "python",
   "name": "python3"
  },
  "language_info": {
   "codemirror_mode": {
    "name": "ipython",
    "version": 3
   },
   "file_extension": ".py",
   "mimetype": "text/x-python",
   "name": "python",
   "nbconvert_exporter": "python",
   "pygments_lexer": "ipython3",
   "version": "3.10.0"
  }
 },
 "nbformat": 4,
 "nbformat_minor": 2
}
