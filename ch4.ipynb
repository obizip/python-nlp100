{
 "cells": [
  {
   "cell_type": "markdown",
   "metadata": {},
   "source": [
    "# 第4章: 形態素解析"
   ]
  },
  {
   "cell_type": "code",
   "execution_count": 1,
   "metadata": {},
   "outputs": [],
   "source": [
    "from pathlib import Path\n",
    "from collections import defaultdict\n",
    "from pprint import pprint\n",
    "import matplotlib.pyplot as plt"
   ]
  },
  {
   "cell_type": "markdown",
   "metadata": {},
   "source": [
    "### 30. 形態素解析結果の読み込み"
   ]
  },
  {
   "cell_type": "code",
   "execution_count": 2,
   "metadata": {},
   "outputs": [],
   "source": [
    "\n",
    "def read_mecab(filepath: str | Path) -> list:\n",
    "    with open(filepath) as f:\n",
    "        sentence_list = []\n",
    "        sentence = []\n",
    "        for line in f:\n",
    "            # 表層形\\t品詞,品詞細分類1,品詞細分類2,品詞細分類3,活用型,活用形,原形,読み,発音\n",
    "            # -> 表層形（surface），基本形（base），品詞（pos），品詞細分類1（pos1）\n",
    "\n",
    "            if line.strip() == \"\":\n",
    "                continue\n",
    "\n",
    "            if line.strip() == \"EOS\":\n",
    "                sentence_list.append(sentence)\n",
    "                sentence = []\n",
    "                continue\n",
    "\n",
    "            surface, rest = line.split(\"\\t\")\n",
    "            outputs = rest.split(\",\")\n",
    "            morpheme = {\n",
    "                \"surface\": surface,\n",
    "                \"base\": outputs[-3],\n",
    "                \"pos\": outputs[0],\n",
    "                \"pos1\": outputs[1]\n",
    "            }\n",
    "            sentence.append(morpheme)\n",
    "\n",
    "    return sentence_list\n",
    "\n",
    "sentence_list = read_mecab(\"./data/neko.txt.mecab\")\n"
   ]
  },
  {
   "cell_type": "markdown",
   "metadata": {},
   "source": [
    "### 31. 動詞"
   ]
  },
  {
   "cell_type": "code",
   "execution_count": 3,
   "metadata": {},
   "outputs": [
    {
     "name": "stdout",
     "output_type": "stream",
     "text": [
      "['生れ', 'つか', 'し', '泣い', 'し', 'いる', '始め', '見', '聞く', '捕え']\n"
     ]
    }
   ],
   "source": [
    "verb_surface_list = [] # 表層形\n",
    "for sentence in sentence_list:\n",
    "    for morpheme in sentence:\n",
    "        if morpheme[\"pos\"] == \"動詞\":\n",
    "            verb_surface_list.append(morpheme[\"surface\"])\n",
    "pprint(verb_surface_list[:10])"
   ]
  },
  {
   "cell_type": "markdown",
   "metadata": {},
   "source": [
    "### 32. 動詞の基本形"
   ]
  },
  {
   "cell_type": "code",
   "execution_count": 4,
   "metadata": {},
   "outputs": [
    {
     "name": "stdout",
     "output_type": "stream",
     "text": [
      "['生れる', 'つく', 'する', '泣く', 'する', 'いる', '始める', '見る', '聞く', '捕える']\n"
     ]
    }
   ],
   "source": [
    "verb_base_list = []\n",
    "for sentence in sentence_list:\n",
    "    for morpheme in sentence:\n",
    "        if morpheme[\"pos\"] == \"動詞\":\n",
    "            verb_base_list.append(morpheme[\"base\"])\n",
    "pprint(verb_base_list[:10])"
   ]
  },
  {
   "cell_type": "markdown",
   "metadata": {},
   "source": [
    "### 33. 「AのB」"
   ]
  },
  {
   "cell_type": "code",
   "execution_count": 5,
   "metadata": {},
   "outputs": [
    {
     "name": "stdout",
     "output_type": "stream",
     "text": [
      "[({'base': '彼', 'pos': '名詞', 'pos1': '代名詞', 'surface': '彼'},\n",
      "  {'base': 'の', 'pos': '助詞', 'pos1': '連体化', 'surface': 'の'},\n",
      "  {'base': '掌', 'pos': '名詞', 'pos1': '一般', 'surface': '掌'}),\n",
      " ({'base': '掌', 'pos': '名詞', 'pos1': '一般', 'surface': '掌'},\n",
      "  {'base': 'の', 'pos': '助詞', 'pos1': '連体化', 'surface': 'の'},\n",
      "  {'base': '上', 'pos': '名詞', 'pos1': '非自立', 'surface': '上'}),\n",
      " ({'base': '書生', 'pos': '名詞', 'pos1': '一般', 'surface': '書生'},\n",
      "  {'base': 'の', 'pos': '助詞', 'pos1': '連体化', 'surface': 'の'},\n",
      "  {'base': '顔', 'pos': '名詞', 'pos1': '一般', 'surface': '顔'}),\n",
      " ({'base': 'はず', 'pos': '名詞', 'pos1': '非自立', 'surface': 'はず'},\n",
      "  {'base': 'の', 'pos': '助詞', 'pos1': '連体化', 'surface': 'の'},\n",
      "  {'base': '顔', 'pos': '名詞', 'pos1': '一般', 'surface': '顔'}),\n",
      " ({'base': '顔', 'pos': '名詞', 'pos1': '一般', 'surface': '顔'},\n",
      "  {'base': 'の', 'pos': '助詞', 'pos1': '連体化', 'surface': 'の'},\n",
      "  {'base': '真中', 'pos': '名詞', 'pos1': '一般', 'surface': '真中'}),\n",
      " ({'base': '穴', 'pos': '名詞', 'pos1': '一般', 'surface': '穴'},\n",
      "  {'base': 'の', 'pos': '助詞', 'pos1': '連体化', 'surface': 'の'},\n",
      "  {'base': '中', 'pos': '名詞', 'pos1': '非自立', 'surface': '中'}),\n",
      " ({'base': '書生', 'pos': '名詞', 'pos1': '一般', 'surface': '書生'},\n",
      "  {'base': 'の', 'pos': '助詞', 'pos1': '連体化', 'surface': 'の'},\n",
      "  {'base': '掌', 'pos': '名詞', 'pos1': '一般', 'surface': '掌'}),\n",
      " ({'base': '掌', 'pos': '名詞', 'pos1': '一般', 'surface': '掌'},\n",
      "  {'base': 'の', 'pos': '助詞', 'pos1': '連体化', 'surface': 'の'},\n",
      "  {'base': '裏', 'pos': '名詞', 'pos1': '一般', 'surface': '裏'}),\n",
      " ({'base': '何', 'pos': '名詞', 'pos1': '代名詞', 'surface': '何'},\n",
      "  {'base': 'の', 'pos': '助詞', 'pos1': '連体化', 'surface': 'の'},\n",
      "  {'base': '事', 'pos': '名詞', 'pos1': '非自立', 'surface': '事'}),\n",
      " ({'base': '肝心', 'pos': '名詞', 'pos1': '形容動詞語幹', 'surface': '肝心'},\n",
      "  {'base': 'の', 'pos': '助詞', 'pos1': '連体化', 'surface': 'の'},\n",
      "  {'base': '母親', 'pos': '名詞', 'pos1': '一般', 'surface': '母親'})]\n"
     ]
    }
   ],
   "source": [
    "joined_no_list = [] # AのB\n",
    "for sentence in sentence_list:\n",
    "    for (i, morpheme) in enumerate(sentence):\n",
    "        if morpheme[\"pos\"] == \"名詞\":\n",
    "            if len(sentence) > (i + 2):\n",
    "                is_no = sentence[i+1][\"base\"] == \"の\"\n",
    "                is_noun =  sentence[i+2][\"pos\"] == \"名詞\"\n",
    "                if is_no and is_noun:\n",
    "                    joined_no_list.append((morpheme, sentence[i+1], sentence[i+2]))\n",
    "pprint(joined_no_list[:10])"
   ]
  },
  {
   "cell_type": "markdown",
   "metadata": {},
   "source": [
    "### 34. 名詞の連接"
   ]
  },
  {
   "cell_type": "code",
   "execution_count": 6,
   "metadata": {},
   "outputs": [
    {
     "name": "stdout",
     "output_type": "stream",
     "text": [
      "[[{'base': '*', 'pos': '名詞', 'pos1': '一般', 'surface': 'many'},\n",
      "  {'base': '*', 'pos': '名詞', 'pos1': '一般', 'surface': 'a'},\n",
      "  {'base': '*', 'pos': '名詞', 'pos1': '一般', 'surface': 'slip'},\n",
      "  {'base': '*', 'pos': '名詞', 'pos1': 'サ変接続', 'surface': \"'\"},\n",
      "  {'base': '*', 'pos': '名詞', 'pos1': '一般', 'surface': 'twixt'},\n",
      "  {'base': '*', 'pos': '名詞', 'pos1': '一般', 'surface': 'the'},\n",
      "  {'base': '*', 'pos': '名詞', 'pos1': '一般', 'surface': 'cup'},\n",
      "  {'base': '*', 'pos': '名詞', 'pos1': '一般', 'surface': 'and'},\n",
      "  {'base': '*', 'pos': '名詞', 'pos1': '一般', 'surface': 'the'},\n",
      "  {'base': '*', 'pos': '名詞', 'pos1': '一般', 'surface': 'lip'}],\n",
      " [{'base': '明治', 'pos': '名詞', 'pos1': '固有名詞', 'surface': '明治'},\n",
      "  {'base': '三', 'pos': '名詞', 'pos1': '数', 'surface': '三'},\n",
      "  {'base': '十', 'pos': '名詞', 'pos1': '数', 'surface': '十'},\n",
      "  {'base': '八', 'pos': '名詞', 'pos1': '数', 'surface': '八'},\n",
      "  {'base': '年', 'pos': '名詞', 'pos1': '接尾', 'surface': '年'},\n",
      "  {'base': '何', 'pos': '名詞', 'pos1': '数', 'surface': '何'},\n",
      "  {'base': '月', 'pos': '名詞', 'pos1': '一般', 'surface': '月'},\n",
      "  {'base': '何', 'pos': '名詞', 'pos1': '数', 'surface': '何'},\n",
      "  {'base': '日', 'pos': '名詞', 'pos1': '接尾', 'surface': '日'},\n",
      "  {'base': '戸締り', 'pos': '名詞', 'pos1': 'サ変接続', 'surface': '戸締り'}],\n",
      " [{'base': '八', 'pos': '名詞', 'pos1': '数', 'surface': '八'},\n",
      "  {'base': '万', 'pos': '名詞', 'pos1': '数', 'surface': '万'},\n",
      "  {'base': '八', 'pos': '名詞', 'pos1': '数', 'surface': '八'},\n",
      "  {'base': '千', 'pos': '名詞', 'pos1': '数', 'surface': '千'},\n",
      "  {'base': '八', 'pos': '名詞', 'pos1': '数', 'surface': '八'},\n",
      "  {'base': '百', 'pos': '名詞', 'pos1': '数', 'surface': '百'},\n",
      "  {'base': '八', 'pos': '名詞', 'pos1': '数', 'surface': '八'},\n",
      "  {'base': '十', 'pos': '名詞', 'pos1': '数', 'surface': '十'},\n",
      "  {'base': '本', 'pos': '名詞', 'pos1': '接尾', 'surface': '本'}],\n",
      " [{'base': '明治', 'pos': '名詞', 'pos1': '固有名詞', 'surface': '明治'},\n",
      "  {'base': '十', 'pos': '名詞', 'pos1': '数', 'surface': '十'},\n",
      "  {'base': '一', 'pos': '名詞', 'pos1': '数', 'surface': '一'},\n",
      "  {'base': '年', 'pos': '名詞', 'pos1': '接尾', 'surface': '年'},\n",
      "  {'base': '九月', 'pos': '名詞', 'pos1': '副詞可能', 'surface': '九月'},\n",
      "  {'base': '廿', 'pos': '名詞', 'pos1': '一般', 'surface': '廿'},\n",
      "  {'base': '八', 'pos': '名詞', 'pos1': '数', 'surface': '八'},\n",
      "  {'base': '日', 'pos': '名詞', 'pos1': '接尾', 'surface': '日'}],\n",
      " [{'base': '文明', 'pos': '名詞', 'pos1': '一般', 'surface': '文明'},\n",
      "  {'base': '中学', 'pos': '名詞', 'pos1': '一般', 'surface': '中学'},\n",
      "  {'base': '二', 'pos': '名詞', 'pos1': '数', 'surface': '二'},\n",
      "  {'base': '年生', 'pos': '名詞', 'pos1': '接尾', 'surface': '年生'},\n",
      "  {'base': '古井', 'pos': '名詞', 'pos1': '固有名詞', 'surface': '古井'},\n",
      "  {'base': '武', 'pos': '名詞', 'pos1': '固有名詞', 'surface': '武'},\n",
      "  {'base': '右', 'pos': '名詞', 'pos1': '一般', 'surface': '右'},\n",
      "  {'base': '衛門', 'pos': '名詞', 'pos1': '固有名詞', 'surface': '衛門'}]]\n"
     ]
    }
   ],
   "source": [
    "linking_noun_list = []\n",
    "\n",
    "for sentence in sentence_list:\n",
    "    # 一つ前の品詞が名詞かどうか\n",
    "    prev_is_noun = False\n",
    "    # 一つの名詞の連接を格納するリスト\n",
    "    linking_noun = []\n",
    "\n",
    "    i = 0\n",
    "    while len(sentence) > i:\n",
    "        morpheme = sentence[i]\n",
    "        if morpheme[\"pos\"] == \"名詞\":\n",
    "            prev_is_noun = True\n",
    "            linking_noun.append(morpheme)\n",
    "        else:\n",
    "            if prev_is_noun:\n",
    "                # 一つ前が名詞で、今、名詞でないとき、\n",
    "                # 名詞の連接が途切れたということである\n",
    "                linking_noun_list.append(linking_noun)\n",
    "                linking_noun = []\n",
    "                prev_is_noun = False\n",
    "        i += 1\n",
    "\n",
    "    # 文末まで名詞が続いたときの処理(実際にそのような文はないかも?)\n",
    "    if linking_noun != []:\n",
    "        linking_noun_list.append(linking_noun)\n",
    "\n",
    "linking_noun_list = sorted(linking_noun_list, key=lambda l: -len(l))\n",
    "pprint(linking_noun_list[:5])"
   ]
  },
  {
   "cell_type": "markdown",
   "metadata": {},
   "source": [
    "### 35. 単語の出現頻度"
   ]
  },
  {
   "cell_type": "code",
   "execution_count": 7,
   "metadata": {},
   "outputs": [
    {
     "name": "stdout",
     "output_type": "stream",
     "text": [
      "[('の', 9193), ('て', 6868), ('は', 6421), ('に', 6242), ('を', 6071), ('と', 5508), ('が', 5337), ('た', 3986), ('で', 3797), ('も', 2474)]\n"
     ]
    }
   ],
   "source": [
    "word_count_dict = defaultdict(lambda: 0)\n",
    "\n",
    "for sentence in sentence_list:\n",
    "    for morpheme in sentence:\n",
    "        if not morpheme[\"pos\"] in [\"記号\"]:\n",
    "            word_count_dict[morpheme[\"surface\"]] += 1\n",
    "\n",
    "word_counts = sorted(list(word_count_dict.items()), key=lambda x: -x[1])\n",
    "print(word_counts[:10])"
   ]
  },
  {
   "cell_type": "markdown",
   "metadata": {},
   "source": [
    "### 36.頻度上位10語"
   ]
  },
  {
   "cell_type": "code",
   "execution_count": 8,
   "metadata": {},
   "outputs": [
    {
     "data": {
      "text/plain": [
       "<BarContainer object of 10 artists>"
      ]
     },
     "execution_count": 8,
     "metadata": {},
     "output_type": "execute_result"
    },
    {
     "data": {
      "image/png": "[encoded data removed]",
      "text/plain": [
       "<Figure size 640x480 with 1 Axes>"
      ]
     },
     "metadata": {},
     "output_type": "display_data"
    }
   ],
   "source": [
    "words = [w for (w, c) in word_counts[:10]]\n",
    "counts = [c for (w, c) in word_counts[:10]]\n",
    "# how to search fonts: https://www.danyelkoca.com/jp/blog/matplotlib\n",
    "plt.rcParams['font.family'] = \"Hiragino Sans\"\n",
    "plt.bar(words, counts)"
   ]
  },
  {
   "cell_type": "markdown",
   "metadata": {},
   "source": [
    "### 37. 「猫」と共起頻度の高い上位10語"
   ]
  },
  {
   "cell_type": "code",
   "execution_count": 9,
   "metadata": {},
   "outputs": [
    {
     "name": "stdout",
     "output_type": "stream",
     "text": [
      "[('の', 75), ('だ', 41), ('は', 36), ('に', 28), ('が', 27), ('と', 27), ('、', 25), ('を', 10), ('も', 9), ('で', 9)]\n"
     ]
    }
   ],
   "source": [
    "freqs = defaultdict(lambda: 0)\n",
    "\n",
    "for sentence in sentence_list:\n",
    "    for i, morpheme in enumerate(sentence):\n",
    "        if not morpheme[\"pos\"] in [\"記号\"]:\n",
    "            if morpheme[\"base\"] == \"猫\":\n",
    "                if i >= 1:\n",
    "                    freqs[sentence[i-1][\"base\"]] += 1\n",
    "                if i + 1 < len(sentence):\n",
    "                    freqs[sentence[i+1][\"base\"]] += 1\n",
    "\n",
    "freqs_items = sorted(list(freqs.items()), key=lambda x: -x[1])\n",
    "print(freqs_items[:10])"
   ]
  },
  {
   "cell_type": "markdown",
   "metadata": {},
   "source": [
    "### 38. ヒストグラム"
   ]
  },
  {
   "cell_type": "code",
   "execution_count": 10,
   "metadata": {},
   "outputs": [
    {
     "data": {
      "text/plain": [
       "[]"
      ]
     },
     "execution_count": 10,
     "metadata": {},
     "output_type": "execute_result"
    },
    {
     "data": {
      "image/png": "[encoded data removed]",
      "text/plain": [
       "<Figure size 640x480 with 1 Axes>"
      ]
     },
     "metadata": {},
     "output_type": "display_data"
    }
   ],
   "source": [
    "word_count_dict = defaultdict(lambda: 0)\n",
    "\n",
    "for sentence in sentence_list:\n",
    "    for morpheme in sentence:\n",
    "        if not morpheme[\"pos\"] in [\"記号\"]:\n",
    "            word_count_dict[morpheme[\"surface\"]] += 1\n",
    "\n",
    "word_counts = sorted(list(word_count_dict.items()), key=lambda x: -x[1])\n",
    "\n",
    "counts = [c for (w, c) in word_counts]\n",
    "plt.hist(counts, log=True, bins=50)\n",
    "plt.plot()"
   ]
  },
  {
   "cell_type": "markdown",
   "metadata": {},
   "source": [
    "### 39. Zipfの法則"
   ]
  },
  {
   "cell_type": "code",
   "execution_count": 11,
   "metadata": {},
   "outputs": [
    {
     "data": {
      "image/png": "[encoded data removed]",
      "text/plain": [
       "<Figure size 640x480 with 1 Axes>"
      ]
     },
     "metadata": {},
     "output_type": "display_data"
    }
   ],
   "source": [
    "word_count_dict = defaultdict(lambda: 0)\n",
    "\n",
    "for sentence in sentence_list:\n",
    "    for morpheme in sentence:\n",
    "        if not morpheme[\"pos\"] in [\"記号\"]:\n",
    "            word_count_dict[morpheme[\"surface\"]] += 1\n",
    "\n",
    "word_counts = sorted(list(word_count_dict.items()), key=lambda x: -x[1])\n",
    "\n",
    "counts = [c for (w, c) in word_counts]\n",
    "plt.plot(counts, \".\")\n",
    "plt.xscale('log')\n",
    "plt.yscale('log')"
   ]
  }
 ],
 "metadata": {
  "kernelspec": {
   "display_name": ".venv",
   "language": "python",
   "name": "python3"
  },
  "language_info": {
   "codemirror_mode": {
    "name": "ipython",
    "version": 3
   },
   "file_extension": ".py",
   "mimetype": "text/x-python",
   "name": "python",
   "nbconvert_exporter": "python",
   "pygments_lexer": "ipython3",
   "version": "3.10.0"
  }
 },
 "nbformat": 4,
 "nbformat_minor": 2
}
