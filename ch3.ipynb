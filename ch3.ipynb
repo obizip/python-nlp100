{
 "cells": [
  {
   "cell_type": "markdown",
   "metadata": {},
   "source": [
    "# 第 3 章: 正規表現\n"
   ]
  },
  {
   "cell_type": "code",
   "execution_count": 16,
   "metadata": {},
   "outputs": [],
   "source": [
    "from pathlib import Path\n",
    "import json\n",
    "import re"
   ]
  },
  {
   "cell_type": "markdown",
   "metadata": {},
   "source": [
    "### 20. JSON データの読み込み\n"
   ]
  },
  {
   "cell_type": "code",
   "execution_count": 10,
   "metadata": {},
   "outputs": [],
   "source": [
    "def load_jsonlines(path: Path)->list[dict]:\n",
    "    json_dicts = []\n",
    "    with open(path, \"r\") as jsonl_file:\n",
    "        for jsonline in jsonl_file:\n",
    "            json_dicts.append(json.loads(jsonline))\n",
    "    return json_dicts\n",
    "\n",
    "wikis = load_jsonlines(Path(\"data/jawiki-country.json\"))"
   ]
  },
  {
   "cell_type": "code",
   "execution_count": 118,
   "metadata": {},
   "outputs": [
    {
     "name": "stdout",
     "output_type": "stream",
     "text": [
      "{{redirect|UK}}\n",
      "{{redirect|英国|春秋時代の諸侯国|英 (春秋)}}\n",
      "{{Otheruses|ヨーロッパの国|長崎県・熊本県の郷土料理|いぎりす}}\n",
      "{{基礎情報 国\n",
      "|略名  =イギリス\n",
      "|日本語国名 = グレートブリテン及び北アイルランド連合王国\n",
      "|公式国名 = {{lang|en|United Kingdom of Great Britain and Northern Ireland}}<ref>英語以外での正式国名:<br />\n",
      "*{{lang|gd|An Rìoghachd Aonaichte na Breatainn Mhòr agus Eirinn mu Thuath}}（[[スコットランド・ゲール語]]）\n",
      "*{{lang|cy|Teyrnas Gyfunol Prydain Fawr a Gogledd Iwerddon}}（[[ウェールズ語]]）\n",
      "*{{lang|ga|Ríocht Aontaithe na Breataine Móire agus Tuaisceart na hÉireann}}（[[アイルランド語]]）\n",
      "*{{lang|kw|An Rywvaneth Unys a Vreten Veur hag Iwerdhon Glédh}}（[[コーンウォール語]]）\n",
      "*{{lang|sco|Unitit Kinrick o Great Breetain an Northren Ireland}}（[[スコットランド語]]）\n",
      "**{{lang|sco|Claught Kängrick o Docht Brätain an Norlin Airlann}}、{{lang|sco|Unitet Kängdom o Great Brittain an Norlin Airlann}}（アルスター・スコットランド語）</ref>\n",
      "|国旗画像 = Flag of the United Kingdom.svg\n",
      "|国章画像 = [[ファイル:Royal Coat of Arms of the United Kingdom.svg|85px|イギリスの国章]]\n",
      "|国章リンク =（[[イギリスの国章|国章]]）\n",
      "|標語 = {{lang|fr|[[Dieu et mon droit]]}}<br />（[[フランス語]]:[[Dieu et mon droit|神と我が権利]]）\n",
      "|国歌 = [[女王陛下万歳|{{lang|en|God Save the Queen}}]]{{en icon}}<br />''神よ女王を護り賜え''<br />{{center|[[ファイル:United States Navy Band - God Save the Queen.ogg]]}}\n",
      "|地図画像 = Europe-UK.svg\n",
      "|位置画像 = United Kingdom (+overseas territories) in the World (+Antarctica claims).svg\n",
      "|公用語 = [[英語]]\n",
      "|首都 = [[ロンドン]]（事実上）\n",
      "|最大都市 = ロンドン\n",
      "|元首等肩書 = [[イギリスの君主|女王]]\n",
      "|元首等氏名 = [[エリザベス2世]]\n",
      "|首相等肩書 = [[イギリスの首相|首相]]\n",
      "|首相等氏名 = [[ボリス・ジョンソン]]\n",
      "|他元首等肩書1 = [[貴族院 (イギリス)|貴族院議長]]\n",
      "|他元首等氏名1 = [[:en:Norman Fowler, Baron Fowler|ノーマン・ファウラー]]\n",
      "|他元首等肩書2 = [[庶民院 (イギリス)|庶民院議長]]\n",
      "|他元首等氏名2 = {{仮リンク|リンゼイ・ホイル|en|Lindsay Hoyle}}\n",
      "|他元首等肩書3 = [[連合王国最高裁判所|最高裁判所長官]]\n",
      "|他元首等氏名3 = [[:en:Brenda Hale, Baroness Hale of Richmond|ブレンダ・ヘイル]]\n",
      "|面積順位 = 76\n",
      "|面積大きさ = 1 E11\n",
      "|面積値 = 244,820\n",
      "|水面積率 = 1.3%\n",
      "|人口統計年 = 2018\n",
      "|人口順位 = 22\n",
      "|人口大きさ = 1 E7\n",
      "|人口値 = 6643万5600<ref>{{Cite web|url=https://www.ons.gov.uk/peoplepopulationandcommunity/populationandmigration/populationestimates|title=Population estimates - Office for National Statistics|accessdate=2019-06-26|date=2019-06-26}}</ref>\n",
      "|人口密度値 = 271\n",
      "|GDP統計年元 = 2012\n",
      "|GDP値元 = 1兆5478億<ref name=\"imf-statistics-gdp\">[http://www.imf.org/external/pubs/ft/weo/2012/02/weodata/weorept.aspx?pr.x=70&pr.y=13&sy=2010&ey=2012&scsm=1&ssd=1&sort=country&ds=.&br=1&c=112&s=NGDP%2CNGDPD%2CPPPGDP%2CPPPPC&grp=0&a=IMF>Data and Statistics>World Economic Outlook Databases>By Countrise>United Kingdom]</ref>\n",
      "|GDP統計年MER = 2012\n",
      "|GDP順位MER = 6\n",
      "|GDP値MER = 2兆4337億<ref name=\"imf-statistics-gdp\" />\n",
      "|GDP統計年 = 2012\n",
      "|GDP順位 = 6\n",
      "|GDP値 = 2兆3162億<ref name=\"imf-statistics-gdp\" />\n",
      "|GDP/人 = 36,727<ref name=\"imf-statistics-gdp\" />\n",
      "|建国形態 = 建国\n",
      "|確立形態1 = [[イングランド王国]]／[[スコットランド王国]]<br />（両国とも[[合同法 (1707年)|1707年合同法]]まで）\n",
      "|確立年月日1 = 927年／843年\n",
      "|確立形態2 = [[グレートブリテン王国]]成立<br />（1707年合同法）\n",
      "|確立年月日2 = 1707年{{0}}5月{{0}}1日\n",
      "|確立形態3 = [[グレートブリテン及びアイルランド連合王国]]成立<br />（[[合同法 (1800年)|1800年合同法]]）\n",
      "|確立年月日3 = 1801年{{0}}1月{{0}}1日\n",
      "|確立形態4 = 現在の国号「'''グレートブリテン及び北アイルランド連合王国'''」に変更\n",
      "|確立年月日4 = 1927年{{0}}4月12日\n",
      "|通貨 = [[スターリング・ポンド|UKポンド]] (£)\n",
      "|通貨コード = GBP\n",
      "|時間帯 = ±0\n",
      "|夏時間 = +1\n",
      "|ISO 3166-1 = GB / GBR\n",
      "|ccTLD = [[.uk]] / [[.gb]]<ref>使用は.ukに比べ圧倒的少数。</ref>\n",
      "|国際電話番号 = 44\n",
      "|注記 = <references/>\n",
      "}}\n",
      "\n",
      "'''グレートブリテン及び北アイルランド連合王国'''（グレートブリテンおよびきたアイルランドれんごうおうこく、{{lang-en-short|United Kingdom of Great Britain and Northern Ireland}}: '''UK'''）は、[[ヨーロッパ大陸]]の北西岸に位置し、[[グレートブリテン島]]・[[アイルランド島]]北東部・その他多くの島々から成る[[立憲君主制]][[国家]]。首都は[[ロンドン]]。[[日本語]]における[[通称]]の一例として'''イギリス'''、'''英国'''（えいこく）がある（→[[#国名]]）。\n",
      "\n",
      "'''[[イングランド]]'''、'''[[ウェールズ]]'''、'''[[スコットランド]]'''、'''[[北アイルランド]]'''という歴史的経緯に基づく4つの[[イギリスのカントリー|「カントリー」と呼ばれる「国」]]が、[[同君連合]]型の単一の[[主権国家体制|主権国家]]を形成する<ref name=\"page823\">{{cite web |url=http://webarchive.nationalarchives.gov.uk/+/http://www.number10.gov.uk/Page823 |title=Countries within a country |publisher=Prime Minister's Office |accessdate=10 January 2003}}</ref>独特の統治体制を採るが、一般的に[[連邦]]国家とは区別される。\n",
      "\n",
      "[[国際連合安全保障理事会常任理事国]]の一国（五大国）であり、[[G7]]・[[G20]]に参加する。GDPは世界10位以内に位置する巨大な市場を持ち、ヨーロッパにおける四つの大国「[[ビッグ4 (ヨーロッパ)|ビッグ4]]」の一国である。[[ウィーン体制]]が成立した[[1815年]]以来、世界で最も影響力のある国家・[[列強]]の一つに数えられる。また、[[民主主義]]、[[立憲君主制]]など近代国家の基本的な諸制度が発祥した国でもある。\n",
      "\n",
      "イギリスの[[擬人化]]としては[[ジョン・ブル]]、[[ブリタニア (女神)|ブリタニア]]が知られる。\n",
      "\n",
      "==国名==\n",
      "正式名称は英語で「{{Lang|en|'''United Kingdom of Great Britain and Northern Ireland'''}}（ユナイテッド・キングダム・オヴ・グレイト・ブリテン・アンド・ノーザン・アイルランド）」であり、日本語では、「'''グレート・ブリテン及び北部アイルランド連合王国'''」とする場合（法文など）と「'''グレート・ブリテン及び北アイルランド連合王国'''」とする場合（条約文など）がある。\n",
      "\n",
      "英語での略称は「{{Lang|en|'''United Kingdom'''}}」、「{{Lang|en|'''UK'''}}」。[[日本語]]における一般的な通称は「'''イギリス'''」もしくは「'''英国'''」であるが、稀に「{{Lang|en|United Kingdom}}」の[[直訳と意訳|直訳]]である「'''[[連合王国]]'''（れんごうおうこく）」が用いられることもある。現在の公用文では「英国」が使用されており、「イギリス」は口語で用いられることが多い<ref>[[日本放送協会|NHK]]で採用している他、原則として「英国」を用いるメディアでも「[[イギリス英語]]」のような形では使用する。</ref>。「連合王国」は2003年まで法文において用いられていた<ref>[http://warp.da.ndl.go.jp/info:ndljp/pid/1368617/www.meti.go.jp/policy/anpo/moto/topics/country/country.pdf 輸出貿易管理令等における国名表記の変更について]（[[経済産業省]]） 国立国会図書館のアーカイブより''2019-2-5閲覧''</ref>。\n",
      "\n",
      "「イギリス」は、[[ポルトガル語]]で[[イングランド]]を指す「{{Lang|pt|Inglez}}（イングレス）」が語源で、戦国時代にポルトガル人が来航した事に起源を持つ。原義にかかわらず連合王国全体を指して使われており、連合王国の構成体たる「イングランド」とは区別される。[[江戸時代]]には、[[オランダ語]\n"
     ]
    }
   ],
   "source": [
    "uk_wikis = [wiki for wiki in wikis if wiki['title'] == \"イギリス\"]\n",
    "uk_wiki = uk_wikis[0]\n",
    "print(uk_wiki['text'][:5000])"
   ]
  },
  {
   "cell_type": "markdown",
   "metadata": {},
   "source": [
    "### 21. カテゴリ名を含む行を抽出\n"
   ]
  },
  {
   "cell_type": "code",
   "execution_count": 37,
   "metadata": {},
   "outputs": [
    {
     "name": "stdout",
     "output_type": "stream",
     "text": [
      "[[Category:イギリス|*]]\n",
      "[[Category:イギリス連邦加盟国]]\n",
      "[[Category:英連邦王国|*]]\n",
      "[[Category:G8加盟国]]\n",
      "[[Category:欧州連合加盟国|元]]\n",
      "[[Category:海洋国家]]\n",
      "[[Category:現存する君主国]]\n",
      "[[Category:島国]]\n",
      "[[Category:1801年に成立した国家・領域]]\n"
     ]
    }
   ],
   "source": [
    "category = re.compile(\"\\[\\[Category:.*\\]\\]\")\n",
    "include_category_lines = [line for line in uk_wiki['text'].split(\"\\n\") if category.search(line)]\n",
    "print(\"\\n\".join(include_category_lines[:50]))"
   ]
  },
  {
   "cell_type": "markdown",
   "metadata": {},
   "source": [
    "### 22. カテゴリ名の抽出\n"
   ]
  },
  {
   "cell_type": "code",
   "execution_count": 58,
   "metadata": {},
   "outputs": [
    {
     "name": "stdout",
     "output_type": "stream",
     "text": [
      "['イギリス', 'イギリス連邦加盟国', '英連邦王国', 'G8加盟国', '欧州連合加盟国', '海洋国家', '現存する君主国', '島国', '1801年に成立した国家・領域']\n"
     ]
    }
   ],
   "source": [
    "# ([^|\\]]+)：カテゴリ名部分にマッチするキャプチャグループです。\n",
    "# |または]のいずれにも一致しない文字が1文字以上続く部分を取得します。\n",
    "# by ChatGPT\n",
    "file_pattern = re.compile(r'\\[\\[Category:([^|\\]]+)')\n",
    "\n",
    "categories = []\n",
    "for line in uk_wiki['text'].split(\"\\n\"):\n",
    "    matches = file_pattern.findall(line)\n",
    "    if len(matches) > 0:\n",
    "        categories += matches\n",
    "\n",
    "print(categories)"
   ]
  },
  {
   "cell_type": "markdown",
   "metadata": {},
   "source": [
    "### 23. セクション構造\n"
   ]
  },
  {
   "cell_type": "code",
   "execution_count": 78,
   "metadata": {},
   "outputs": [
    {
     "name": "stdout",
     "output_type": "stream",
     "text": [
      "[(1, '国名'), (1, '歴史'), (1, '地理'), (2, '主要都市'), (2, '気候'), (1, '政治'), (2, '元首'), (2, '法'), (2, '内政'), (2, '地方行政区分')]\n"
     ]
    }
   ],
   "source": [
    "section_pattern = re.compile(r'^(=+)\\s*(.*?)\\s*\\1$')\n",
    "\n",
    "sections = []\n",
    "for line in uk_wiki['text'].split(\"\\n\"):\n",
    "    matches = section_pattern.findall(line)\n",
    "    if len(matches) > 0:\n",
    "        sections += [(len(level)-1, title) for level, title in matches]\n",
    "\n",
    "print(sections[:10])"
   ]
  },
  {
   "cell_type": "markdown",
   "metadata": {},
   "source": [
    "### 24. ファイル参照の抽出\n"
   ]
  },
  {
   "cell_type": "code",
   "execution_count": 80,
   "metadata": {},
   "outputs": [
    {
     "name": "stdout",
     "output_type": "stream",
     "text": [
      "['Royal Coat of Arms of the United Kingdom.svg', 'United States Navy Band - God Save the Queen.ogg', 'Descriptio Prime Tabulae Europae.jpg', \"Lenepveu, Jeanne d'Arc au siège d'Orléans.jpg\", 'London.bankofengland.arp.jpg']\n"
     ]
    }
   ],
   "source": [
    "file_pattern = re.compile(r'\\[\\[ファイル:([^|\\]]+)')\n",
    "\n",
    "files = []\n",
    "for line in uk_wiki['text'].split(\"\\n\"):\n",
    "    matches = file_pattern.findall(line)\n",
    "    if len(matches) > 0:\n",
    "        files += matches\n",
    "\n",
    "print(files[:5])\n"
   ]
  },
  {
   "cell_type": "markdown",
   "metadata": {},
   "source": [
    "### 25. テンプレートの抽出\n"
   ]
  },
  {
   "cell_type": "code",
   "execution_count": 201,
   "metadata": {},
   "outputs": [
    {
     "data": {
      "text/plain": [
       "[('日本語国名', 'グレートブリテン及び北アイルランド連合王国'),\n",
       " ('公式国名',\n",
       "  '{{lang|en|United Kingdom of Great Britain and Northern Ireland}}<ref>英語以外での正式国名:<br />\\n*{{lang|gd|An Rìoghachd Aonaichte na Breatainn Mhòr agus Eirinn mu Thuath}}（[[スコットランド・ゲール語]]）\\n*{{lang|cy|Teyrnas Gyfunol Prydain Fawr a Gogledd Iwerddon}}（[[ウェールズ語]]）\\n*{{lang|ga|Ríocht Aontaithe na Breataine Móire agus Tuaisceart na hÉireann}}（[[アイルランド語]]）\\n*{{lang|kw|An Rywvaneth Unys a Vreten Veur hag Iwerdhon Glédh}}（[[コーンウォール語]]）\\n*{{lang|sco|Unitit Kinrick o Great Breetain an Northren Ireland}}（[[スコットランド語]]）\\n**{{lang|sco|Claught Kängrick o Docht Brätain an Norlin Airlann}}、{{lang|sco|Unitet Kängdom o Great Brittain an Norlin Airlann}}（アルスター・スコットランド語）</ref>'),\n",
       " ('国旗画像', 'Flag of the United Kingdom.svg'),\n",
       " ('国章画像',\n",
       "  '[[ファイル:Royal Coat of Arms of the United Kingdom.svg|85px|イギリスの国章]]'),\n",
       " ('標語',\n",
       "  '{{lang|fr|[[Dieu et mon droit]]}}<br />（[[フランス語]]:[[Dieu et mon droit|神と我が権利]]）'),\n",
       " ('国歌',\n",
       "  \"[[女王陛下万歳|{{lang|en|God Save the Queen}}]]{{en icon}}<br />''神よ女王を護り賜え''<br />{{center|[[ファイル:United States Navy Band - God Save the Queen.ogg]]}}\"),\n",
       " ('地図画像', 'Europe-UK.svg'),\n",
       " ('位置画像',\n",
       "  'United Kingdom (+overseas territories) in the World (+Antarctica claims).svg'),\n",
       " ('公用語', '[[英語]]'),\n",
       " ('首都', '[[ロンドン]]（事実上）')]"
      ]
     },
     "execution_count": 201,
     "metadata": {},
     "output_type": "execute_result"
    }
   ],
   "source": [
    "def extract_jawiki_info(text: str, value_processes: list[callable] = None) -> dict:\n",
    "    info_match = re.search(r'\\{\\{基礎情報.*?(\\n.+?)\\n\\}\\}', text, re.DOTALL)\n",
    "    info_text = info_match.group(1)\n",
    "\n",
    "    info_dict = {}\n",
    "    map_pat = re.compile(r'(.+?)\\s=\\s(.*)', re.DOTALL)\n",
    "    for kv in info_text.split(\"\\n|\"):\n",
    "        matches = map_pat.findall(kv)\n",
    "        if matches:\n",
    "            key, val = matches[0]\n",
    "            if value_processes is not None:\n",
    "                for proc in value_processes:\n",
    "                    val = proc(val)\n",
    "            info_dict.update([(key, val)])\n",
    "    return info_dict\n",
    "\n",
    "info_dict = extract_jawiki_info(uk_wiki['text'])\n",
    "list(info_dict.items())[:10]"
   ]
  },
  {
   "cell_type": "markdown",
   "metadata": {},
   "source": [
    "### 26. 強調マークアップの除去\n"
   ]
  },
  {
   "cell_type": "code",
   "execution_count": 203,
   "metadata": {},
   "outputs": [
    {
     "data": {
      "text/plain": [
       "[('日本語国名', 'グレートブリテン及び北アイルランド連合王国'),\n",
       " ('公式国名',\n",
       "  '{{lang|en|United Kingdom of Great Britain and Northern Ireland}}<ref>英語以外での正式国名:<br />\\n*{{lang|gd|An Rìoghachd Aonaichte na Breatainn Mhòr agus Eirinn mu Thuath}}（[[スコットランド・ゲール語]]）\\n*{{lang|cy|Teyrnas Gyfunol Prydain Fawr a Gogledd Iwerddon}}（[[ウェールズ語]]）\\n*{{lang|ga|Ríocht Aontaithe na Breataine Móire agus Tuaisceart na hÉireann}}（[[アイルランド語]]）\\n*{{lang|kw|An Rywvaneth Unys a Vreten Veur hag Iwerdhon Glédh}}（[[コーンウォール語]]）\\n*{{lang|sco|Unitit Kinrick o Great Breetain an Northren Ireland}}（[[スコットランド語]]）\\n**{{lang|sco|Claught Kängrick o Docht Brätain an Norlin Airlann}}、{{lang|sco|Unitet Kängdom o Great Brittain an Norlin Airlann}}（アルスター・スコットランド語）</ref>'),\n",
       " ('国旗画像', 'Flag of the United Kingdom.svg'),\n",
       " ('国章画像',\n",
       "  '[[ファイル:Royal Coat of Arms of the United Kingdom.svg|85px|イギリスの国章]]'),\n",
       " ('標語',\n",
       "  '{{lang|fr|[[Dieu et mon droit]]}}<br />（[[フランス語]]:[[Dieu et mon droit|神と我が権利]]）'),\n",
       " ('国歌',\n",
       "  '[[女王陛下万歳|{{lang|en|God Save the Queen}}]]{{en icon}}<br />神よ女王を護り賜え<br />{{center|[[ファイル:United States Navy Band - God Save the Queen.ogg]]}}'),\n",
       " ('地図画像', 'Europe-UK.svg'),\n",
       " ('位置画像',\n",
       "  'United Kingdom (+overseas territories) in the World (+Antarctica claims).svg'),\n",
       " ('公用語', '[[英語]]'),\n",
       " ('首都', '[[ロンドン]]（事実上）')]"
      ]
     },
     "execution_count": 203,
     "metadata": {},
     "output_type": "execute_result"
    }
   ],
   "source": [
    "def removed_strong(text: str) -> str:\n",
    "    ret = re.sub(r\"''+(.*?)''+\", r'\\1', text)\n",
    "    return ret\n",
    "\n",
    "info_dict = extract_jawiki_info(uk_wiki['text'], [removed_strong])\n",
    "list(info_dict.items())[:10]"
   ]
  },
  {
   "cell_type": "markdown",
   "metadata": {},
   "source": [
    "### 27. 内部リンクの除去\n"
   ]
  },
  {
   "cell_type": "code",
   "execution_count": 245,
   "metadata": {},
   "outputs": [
    {
     "name": "stdout",
     "output_type": "stream",
     "text": [
      "internal link|test\n"
     ]
    },
    {
     "data": {
      "text/plain": [
       "[('日本語国名', 'グレートブリテン及び北アイルランド連合王国'),\n",
       " ('公式国名',\n",
       "  '{{lang|en|United Kingdom of Great Britain and Northern Ireland}}<ref>英語以外での正式国名:<br />\\n*{{lang|gd|An Rìoghachd Aonaichte na Breatainn Mhòr agus Eirinn mu Thuath}}（スコットランド・ゲール語）\\n*{{lang|cy|Teyrnas Gyfunol Prydain Fawr a Gogledd Iwerddon}}（ウェールズ語）\\n*{{lang|ga|Ríocht Aontaithe na Breataine Móire agus Tuaisceart na hÉireann}}（アイルランド語）\\n*{{lang|kw|An Rywvaneth Unys a Vreten Veur hag Iwerdhon Glédh}}（コーンウォール語）\\n*{{lang|sco|Unitit Kinrick o Great Breetain an Northren Ireland}}（スコットランド語）\\n**{{lang|sco|Claught Kängrick o Docht Brätain an Norlin Airlann}}、{{lang|sco|Unitet Kängdom o Great Brittain an Norlin Airlann}}（アルスター・スコットランド語）</ref>'),\n",
       " ('国旗画像', 'Flag of the United Kingdom.svg'),\n",
       " ('国章画像', 'ファイル:Royal Coat of Arms of the United Kingdom.svg|85px|イギリスの国章'),\n",
       " ('標語',\n",
       "  '{{lang|fr|Dieu et mon droit]]}}<br />（[[フランス語]]:[[Dieu et mon droit|神と我が権利）'),\n",
       " ('国歌',\n",
       "  '女王陛下万歳|{{lang|en|God Save the Queen}}]]{{en icon}}<br />神よ女王を護り賜え<br />{{center|[[ファイル:United States Navy Band - God Save the Queen.ogg}}'),\n",
       " ('地図画像', 'Europe-UK.svg'),\n",
       " ('位置画像',\n",
       "  'United Kingdom (+overseas territories) in the World (+Antarctica claims).svg'),\n",
       " ('公用語', '英語'),\n",
       " ('首都', 'ロンドン（事実上）')]"
      ]
     },
     "execution_count": 245,
     "metadata": {},
     "output_type": "execute_result"
    }
   ],
   "source": [
    "text = \"[[internal link|test]]\"\n",
    "def removed_internal_link(text: str) -> str:\n",
    "    ret = re.sub(r\"\\[\\[(.*)\\]\\]\", r'\\1', text)\n",
    "    return ret\n",
    "print(removed_internal_link(text))\n",
    "\n",
    "processes = [removed_strong, removed_internal_link]\n",
    "info_dict = extract_jawiki_info(uk_wiki['text'], processes)\n",
    "list(info_dict.items())[:10]"
   ]
  },
  {
   "cell_type": "markdown",
   "metadata": {},
   "source": [
    "### 28. MediaWiki マークアップの除去\n"
   ]
  },
  {
   "cell_type": "code",
   "execution_count": null,
   "metadata": {},
   "outputs": [],
   "source": []
  },
  {
   "cell_type": "markdown",
   "metadata": {},
   "source": [
    "### 国旗画像の URL を取得する\n"
   ]
  },
  {
   "cell_type": "code",
   "execution_count": 264,
   "metadata": {},
   "outputs": [
    {
     "name": "stdout",
     "output_type": "stream",
     "text": [
      "url:  https://upload.wikimedia.org/wikipedia/commons/8/83/Flag_of_the_United_Kingdom_%283-5%29.svg\n"
     ]
    }
   ],
   "source": [
    "info_dict = extract_jawiki_info(uk_wiki['text'])\n",
    "info_dict[\"国旗画像\"]\n",
    "import requests\n",
    "\n",
    "session = requests.Session()\n",
    "\n",
    "url = \"https://www.mediawiki.org/w/api.php\"\n",
    "\n",
    "params = {\n",
    "    \"action\": \"query\",\n",
    "    \"format\": \"json\",\n",
    "    \"prop\": \"imageinfo\",\n",
    "    \"titles\": \"File:Flag_of_the_United_Kingdom.svg\",\n",
    "    \"iiprop\": \"url\"\n",
    "}\n",
    "\n",
    "res = session.get(url=url, params=params)\n",
    "data = res.json()\n",
    "url = data['query']['pages']['-1']['imageinfo'][0]['url']\n",
    "print(\"url: \", url)"
   ]
  }
 ],
 "metadata": {
  "kernelspec": {
   "display_name": ".venv",
   "language": "python",
   "name": "python3"
  },
  "language_info": {
   "codemirror_mode": {
    "name": "ipython",
    "version": 3
   },
   "file_extension": ".py",
   "mimetype": "text/x-python",
   "name": "python",
   "nbconvert_exporter": "python",
   "pygments_lexer": "ipython3",
   "version": "3.10.0"
  }
 },
 "nbformat": 4,
 "nbformat_minor": 2
}
