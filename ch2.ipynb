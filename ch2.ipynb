{
 "cells": [
  {
   "cell_type": "markdown",
   "metadata": {},
   "source": [
    "# 第 2 章: UNIX コマンド\n"
   ]
  },
  {
   "cell_type": "code",
   "execution_count": 6,
   "metadata": {},
   "outputs": [],
   "source": [
    "import functools as ft\n",
    "import subprocess\n",
    "\n",
    "def run(*cmds) -> str:\n",
    "    output = subprocess.run(cmds, capture_output=True)\n",
    "    return output.stdout.decode()"
   ]
  },
  {
   "cell_type": "markdown",
   "metadata": {},
   "source": [
    "### 10. 行数のカウント\n"
   ]
  },
  {
   "cell_type": "code",
   "execution_count": 7,
   "metadata": {},
   "outputs": [
    {
     "name": "stdout",
     "output_type": "stream",
     "text": [
      "python: \t 2780\n",
      "UNIX commnad: \t 2780\n",
      "    2780 data/popular-names.txt\n"
     ]
    }
   ],
   "source": [
    "ret1 = 0\n",
    "with open(\"./data/popular-names.txt\", \"r\") as f:\n",
    "    ret1 = len(f.readlines())\n",
    "print(\"python: \\t\", ret1)\n",
    "\n",
    "ret1_cm = run(\"wc\", \"-l\", \"<\", \"data/popular-names.txt\")\n",
    "ret1_cm = ret1_cm.strip().split()[0]\n",
    "print(\"UNIX commnad: \\t\", ret1_cm)\n",
    "!wc -l data/popular-names.txt"
   ]
  },
  {
   "cell_type": "markdown",
   "metadata": {},
   "source": [
    "### 11. タブをスペースに置換\n"
   ]
  },
  {
   "cell_type": "code",
   "execution_count": 13,
   "metadata": {},
   "outputs": [
    {
     "name": "stdout",
     "output_type": "stream",
     "text": [
      "True\n"
     ]
    }
   ],
   "source": [
    "ret2 = \"\"\n",
    "with open(\"./data/popular-names.txt\", \"r\") as f:\n",
    "    ret2 = ft.reduce(lambda ret, s: ret + s.replace(\"\\t\", \" \"), f.readlines(), \"\")\n",
    "\n",
    "ret2_cm = run(\"sed\", \"s/\\\\t/ /g\", \"./data/popular-names.txt\")\n",
    "\n",
    "print(ret2 == ret2_cm)"
   ]
  },
  {
   "cell_type": "markdown",
   "metadata": {},
   "source": [
    "### 12. 1 列目を col1.txt に，2 列目を col2.txt に保存\n"
   ]
  },
  {
   "cell_type": "code",
   "execution_count": 71,
   "metadata": {},
   "outputs": [],
   "source": [
    "with open(\"./data/popular-names.txt\", \"r\") as inputfile, \\\n",
    "     open(\"./data/col1.txt\", \"w\") as col1file, \\\n",
    "     open(\"./data/col2.txt\", \"w\") as col2file:\n",
    "     for i, line in enumerate(inputfile.readlines()):\n",
    "        col1, col2, *_ = line.split(\"\\t\")\n",
    "        col1file.write(col1 + \"\\n\")\n",
    "        col2file.write(col2 + \"\\n\")\n",
    "\n",
    "# _ = run(\"cut\", \"-f1\", \"./data/popular-names.txt\" , \">\", \"./data/col1_cm.txt\")\n",
    "!cut -f1 ./data/popular-names.txt > ./data/col1_cm.txt\n",
    "!cut -f2 ./data/popular-names.txt > ./data/col2_cm.txt\n",
    "\n",
    "!diff data/col1.txt data/col1_cm.txt\n",
    "!diff data/col2.txt data/col2_cm.txt"
   ]
  },
  {
   "cell_type": "markdown",
   "metadata": {},
   "source": [
    "### 13. col1.txt と col2.txt をマージ\n"
   ]
  },
  {
   "cell_type": "code",
   "execution_count": 77,
   "metadata": {},
   "outputs": [],
   "source": [
    "with open(\"./data/merged.txt\", \"w\") as mergedfile, \\\n",
    "     open(\"./data/col1.txt\", \"r\") as col1file, \\\n",
    "     open(\"./data/col2.txt\", \"r\") as col2file:\n",
    "        col1lines = col1file.readlines()\n",
    "        col2lines = col2file.readlines()\n",
    "        for col1, col2 in zip(col1lines, col2lines):\n",
    "            mergedfile.write(f\"{col1[:-1]}\\t{col2[:-1]}\\n\")\n",
    "\n",
    "!paste data/col1_cm.txt data/col2_cm.txt > data/merged_cm.txt\n",
    "!diff data/merged.txt data/merged_cm.txt"
   ]
  },
  {
   "cell_type": "markdown",
   "metadata": {},
   "source": [
    "### 14. 先頭から N 行を出力\n"
   ]
  },
  {
   "cell_type": "code",
   "execution_count": 81,
   "metadata": {},
   "outputs": [
    {
     "name": "stdout",
     "output_type": "stream",
     "text": [
      "Mary\tF\t7065\t1880\n",
      "Anna\tF\t2604\t1880\n",
      "Emma\tF\t2003\t1880\n",
      "\n",
      "Mary\tF\t7065\t1880\n",
      "Anna\tF\t2604\t1880\n",
      "Emma\tF\t2003\t1880\n"
     ]
    }
   ],
   "source": [
    "N = 3\n",
    "with open(\"./data/popular-names.txt\", \"r\") as f:\n",
    "    print(\"\".join(f.readlines()[:N]))\n",
    "!head -n3 data/popular-names.txt"
   ]
  },
  {
   "cell_type": "markdown",
   "metadata": {},
   "source": [
    "### 15. 末尾の N 行を出力\n"
   ]
  },
  {
   "cell_type": "code",
   "execution_count": 82,
   "metadata": {},
   "outputs": [
    {
     "name": "stdout",
     "output_type": "stream",
     "text": [
      "Lucas\tM\t12585\t2018\n",
      "Mason\tM\t12435\t2018\n",
      "Logan\tM\t12352\t2018\n",
      "\n",
      "Lucas\tM\t12585\t2018\n",
      "Mason\tM\t12435\t2018\n",
      "Logan\tM\t12352\t2018\n"
     ]
    }
   ],
   "source": [
    "N = 3\n",
    "with open(\"./data/popular-names.txt\", \"r\") as f:\n",
    "    print(\"\".join(f.readlines()[-N:]))\n",
    "!tail -n3 data/popular-names.txt"
   ]
  },
  {
   "cell_type": "markdown",
   "metadata": {},
   "source": [
    "### 16. ファイルを N 分割する\n"
   ]
  },
  {
   "cell_type": "code",
   "execution_count": 20,
   "metadata": {},
   "outputs": [],
   "source": [
    "import math\n",
    "N = 3\n",
    "chunks = []\n",
    "\n",
    "with open(\"./data/popular-names.txt\", \"r\") as f:\n",
    "    lines = f.readlines()\n",
    "    nlines = len(lines)\n",
    "    chunksize = math.ceil(nlines / N)\n",
    "    chunks = [lines[i:i + chunksize] for i in range(0, nlines, chunksize)]\n",
    "\n",
    "for i, chunk in enumerate(chunks):\n",
    "    outputfile = open(f\"data/chunk{i+1}.txt\", \"w\")\n",
    "    try:\n",
    "        outputfile.writelines(chunk)\n",
    "    finally:\n",
    "        outputfile.close()\n",
    "\n",
    "!split -n 3 data/popular-names.txt \"data/chunk\""
   ]
  },
  {
   "cell_type": "code",
   "execution_count": 22,
   "metadata": {},
   "outputs": [
    {
     "name": "stdout",
     "output_type": "stream",
     "text": [
      "927a928,957\n",
      "> Virginia\tF\t16162\t1926\n",
      "> Mildred\tF\t13551\t1926\n",
      "> Frances\tF\t13355\t1926\n",
      "> Robert\tM\t61130\t1926\n",
      "> John\tM\t56110\t1926\n",
      "> James\tM\t53209\t1926\n",
      "> William\tM\t51920\t1926\n",
      "> Charles\tM\t29521\t1926\n",
      "> George\tM\t25904\t1926\n",
      "> Richard\tM\t25149\t1926\n",
      "> Joseph\tM\t23759\t1926\n",
      "> Donald\tM\t20912\t1926\n",
      "> Edward\tM\t19378\t1926\n",
      "> Mary\tF\t70639\t1927\n",
      "> Dorothy\tF\t35987\t1927\n",
      "> Betty\tF\t35422\t1927\n",
      "> Helen\tF\t25320\t1927\n",
      "> Margaret\tF\t21964\t1927\n",
      "> Ruth\tF\t19414\t1927\n",
      "> Doris\tF\t16510\t1927\n",
      "> Virginia\tF\t15725\t1927\n",
      "> Shirley\tF\t13315\t1927\n",
      "> Barbara\tF\t13161\t1927\n",
      "> Robert\tM\t61669\t1927\n",
      "> John\tM\t55954\t1927\n",
      "> James\tM\t53674\t1927\n",
      "> William\tM\t51482\t1927\n",
      "> Charles\tM\t31936\t1927\n",
      "> Richard\tM\t26771\t1927\n",
      "> George\tM\t25949\t1927\n",
      "\\ No newline at end of file\n"
     ]
    }
   ],
   "source": [
    "!diff data/chunk1.txt data/chunkaa"
   ]
  },
  {
   "cell_type": "markdown",
   "metadata": {},
   "source": [
    "### 17. １列目の文字列の異なり\n"
   ]
  },
  {
   "cell_type": "code",
   "execution_count": 29,
   "metadata": {},
   "outputs": [
    {
     "name": "stdout",
     "output_type": "stream",
     "text": [
      "Abigail\n",
      "Aiden\n",
      "Alexander\n",
      "Alexis\n",
      "Alice\n",
      "Amanda\n",
      "Amelia\n",
      "Amy\n",
      "Andrew\n",
      "Angela\n",
      "Abigail\n",
      "Aiden\n",
      "Alexander\n",
      "Alexis\n",
      "Alice\n",
      "Amanda\n",
      "Amelia\n",
      "Amy\n",
      "Andrew\n",
      "Angela\n"
     ]
    }
   ],
   "source": [
    "with open(\"./data/popular-names.txt\", \"r\") as f:\n",
    "    print(\n",
    "        \"\\n\".join(\n",
    "            sorted(list(set(line.split(\"\\t\")[0] for line in f.readlines())))[:10]\n",
    "        )\n",
    "    )\n",
    "\n",
    "!cut -f1 data/popular-names.txt | sort | uniq | head -n10"
   ]
  },
  {
   "cell_type": "markdown",
   "metadata": {},
   "source": [
    "### 18. 各行を 3 コラム目の数値の降順にソート\n"
   ]
  },
  {
   "cell_type": "code",
   "execution_count": 40,
   "metadata": {},
   "outputs": [
    {
     "name": "stdout",
     "output_type": "stream",
     "text": [
      "Linda\tF\t99689\t1947\n",
      "Linda\tF\t96211\t1948\n",
      "James\tM\t94757\t1947\n",
      "Michael\tM\t92704\t1957\n",
      "Robert\tM\t91640\t1947\n",
      "\n",
      "Linda\tF\t99689\t1947\n",
      "James\tM\t9951\t1911\n",
      "Mildred\tF\t9921\t1913\n",
      "Mary\tF\t9889\t1886\n",
      "Mary\tF\t9888\t1887\n",
      "sort: Broken pipe\n"
     ]
    }
   ],
   "source": [
    "with open(\"./data/popular-names.txt\", \"r\") as f:\n",
    "    ret18 = sorted(f.readlines(), key=lambda line: -int(line.split(\"\\t\")[2]))\n",
    "    print(\"\".join(ret18[:5]))\n",
    "\n",
    "!sort -rk3 data/popular-names.txt | head -n5"
   ]
  },
  {
   "cell_type": "code",
   "execution_count": 30,
   "metadata": {},
   "outputs": [
    {
     "name": "stdout",
     "output_type": "stream",
     "text": [
      "James\n",
      "William\n",
      "John\n",
      "Robert\n",
      "Mary\n",
      " 118 James\n",
      " 111 William\n",
      " 108 Robert\n",
      " 108 John\n",
      "  92 Mary\n"
     ]
    }
   ],
   "source": [
    "from collections import defaultdict\n",
    "\n",
    "freqs = defaultdict(lambda: 0)\n",
    "with open(\"./data/popular-names.txt\", \"r\") as f:\n",
    "    names = [line.split(\"\\t\")[0] for line in f.readlines()]\n",
    "    for name in names:\n",
    "        freqs[name] += 1\n",
    "    ret19 = [name for name, _ in sorted(freqs.items(), key=lambda item: -item[1])]\n",
    "    print(\"\\n\".join(ret19[:5]))\n",
    "\n",
    "!cut -f1 data/popular-names.txt | sort | uniq -c | sort -r | head -n5\n",
    "# !echo $0"
   ]
  }
 ],
 "metadata": {
  "kernelspec": {
   "display_name": ".venv",
   "language": "python",
   "name": "python3"
  },
  "language_info": {
   "codemirror_mode": {
    "name": "ipython",
    "version": 3
   },
   "file_extension": ".py",
   "mimetype": "text/x-python",
   "name": "python",
   "nbconvert_exporter": "python",
   "pygments_lexer": "ipython3",
   "version": "3.10.0"
  }
 },
 "nbformat": 4,
 "nbformat_minor": 2
}
